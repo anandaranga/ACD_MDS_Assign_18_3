{
 "cells": [
  {
   "cell_type": "markdown",
   "metadata": {},
   "source": [
    "## Assignment 18.3\n",
    "### ACD MDS (Mar 2018 batch) Student: K. Anandaranga "
   ]
  },
  {
   "cell_type": "code",
   "execution_count": 1,
   "metadata": {},
   "outputs": [],
   "source": [
    "# Problem Statement 1:\n",
    "\n",
    "# You take the SAT and score 1100\n",
    "# The mean score for the SAT is 1026 and the standard deviation is 209. \n",
    "# How well did you score on the test compared to the average test taker?"
   ]
  },
  {
   "cell_type": "code",
   "execution_count": 26,
   "metadata": {},
   "outputs": [
    {
     "name": "stdout",
     "output_type": "stream",
     "text": [
      "Z-value = 0.3541, Percent of Test-takers below me =  63.84 %\n"
     ]
    }
   ],
   "source": [
    "import math\n",
    "import scipy.stats as st\n",
    "\n",
    "\n",
    "X = 1100\n",
    "mu = 1026             # population mean\n",
    "sigma = 209           # population stdev\n",
    "\n",
    "Z = (X - mu) / sigma\n",
    "pval = st.norm.cdf(Z) *100\n",
    "\n",
    "print ('Z-value = {:0.4f}, Percent of Test-takers below me =  {:0.2f} %'.format(Z, pval))"
   ]
  },
  {
   "cell_type": "code",
   "execution_count": null,
   "metadata": {},
   "outputs": [],
   "source": []
  }
 ],
 "metadata": {
  "kernelspec": {
   "display_name": "Python 3",
   "language": "python",
   "name": "python3"
  },
  "language_info": {
   "codemirror_mode": {
    "name": "ipython",
    "version": 3
   },
   "file_extension": ".py",
   "mimetype": "text/x-python",
   "name": "python",
   "nbconvert_exporter": "python",
   "pygments_lexer": "ipython3",
   "version": "3.6.1"
  }
 },
 "nbformat": 4,
 "nbformat_minor": 2
}
